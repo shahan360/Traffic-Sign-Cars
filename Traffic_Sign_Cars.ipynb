{
  "nbformat": 4,
  "nbformat_minor": 0,
  "metadata": {
    "colab": {
      "provenance": [],
      "collapsed_sections": []
    },
    "kernelspec": {
      "name": "python3",
      "display_name": "Python 3"
    },
    "language_info": {
      "name": "python"
    },
    "accelerator": "GPU"
  },
  "cells": [
    {
      "cell_type": "code",
      "metadata": {
        "id": "PJPNzYrabEHM"
      },
      "source": [
        "import keras\n",
        "from keras.models import Sequential\n",
        "from keras.layers.convolutional import Conv2D,MaxPooling2D\n",
        "from keras.layers import Dense,Dropout,Flatten\n",
        "from keras.optimizers import adam_v2 \n",
        "import matplotlib.pyplot as plt\n",
        "import seaborn as sns\n",
        "import cv2\n",
        "import pickle\n",
        "import pandas as pd\n",
        "import numpy as np\n",
        "import random"
      ],
      "execution_count": 1,
      "outputs": []
    },
    {
      "cell_type": "code",
      "metadata": {
        "colab": {
          "base_uri": "https://localhost:8080/"
        },
        "id": "GDiE6OZ5dh_b",
        "outputId": "33d9bacc-4ac2-438d-b2da-24e3f67b4df5"
      },
      "source": [
        "#cloning the rep containing traffic sign dataset\n",
        "!git clone https://bitbucket.org/jadslim/german-traffic-signs"
      ],
      "execution_count": 2,
      "outputs": [
        {
          "output_type": "stream",
          "name": "stdout",
          "text": [
            "Cloning into 'german-traffic-signs'...\n",
            "remote: Enumerating objects: 6, done.\u001b[K\n",
            "remote: Counting objects: 100% (6/6), done.\u001b[K\n",
            "remote: Compressing objects: 100% (6/6), done.\u001b[K\n",
            "remote: Total 6 (delta 0), reused 0 (delta 0), pack-reused 0\u001b[K\n",
            "Unpacking objects: 100% (6/6), done.\n"
          ]
        }
      ]
    },
    {
      "cell_type": "code",
      "metadata": {
        "colab": {
          "base_uri": "https://localhost:8080/"
        },
        "id": "ZpuNyETbeV8W",
        "outputId": "e8f50b35-0240-416a-e0d2-e8c7a81719c5"
      },
      "source": [
        "#list dataset contents\n",
        "!ls german-traffic-signs"
      ],
      "execution_count": 3,
      "outputs": [
        {
          "output_type": "stream",
          "name": "stdout",
          "text": [
            "signnames.csv  test.p  train.p\tvalid.p\n"
          ]
        }
      ]
    },
    {
      "cell_type": "code",
      "metadata": {
        "id": "2xU-zYLXe6ym"
      },
      "source": [
        "#load the dataset\n",
        "data = pd.read_csv('german-traffic-signs/signnames.csv')"
      ],
      "execution_count": 4,
      "outputs": []
    },
    {
      "cell_type": "code",
      "metadata": {
        "id": "VTi8zOZqfZ3j"
      },
      "source": [
        "data"
      ],
      "execution_count": null,
      "outputs": []
    },
    {
      "cell_type": "code",
      "metadata": {
        "id": "IYzYAdEDfbPJ"
      },
      "source": [
        "#loading pickled dataset\n",
        "with open(\"german-traffic-signs/train.p\",mode='rb')as training:\n",
        "  train = pickle.load(training)\n",
        "with open(\"german-traffic-signs/valid.p\",mode='rb')as validation:\n",
        "  valid = pickle.load(validation)\n",
        "with open(\"german-traffic-signs/test.p\",mode='rb')as testing:\n",
        "  test = pickle.load(testing)"
      ],
      "execution_count": 6,
      "outputs": []
    },
    {
      "cell_type": "code",
      "metadata": {
        "id": "cBjDQYTShkKQ"
      },
      "source": [
        "X_train,y_train=train['features'],train['labels']\n",
        "X_validation,y_validation=valid['features'],valid['labels']\n",
        "X_test,y_test=test['features'],test['labels']"
      ],
      "execution_count": 7,
      "outputs": []
    },
    {
      "cell_type": "code",
      "metadata": {
        "colab": {
          "base_uri": "https://localhost:8080/"
        },
        "id": "wrRLk1xfiUFO",
        "outputId": "26f4d69c-700b-45a3-9471-83df33f57349"
      },
      "source": [
        "print(X_train.shape)\n",
        "print(X_validation.shape)\n",
        "print(X_test.shape)"
      ],
      "execution_count": 8,
      "outputs": [
        {
          "output_type": "stream",
          "name": "stdout",
          "text": [
            "(34799, 32, 32, 3)\n",
            "(4410, 32, 32, 3)\n",
            "(12630, 32, 32, 3)\n"
          ]
        }
      ]
    },
    {
      "cell_type": "code",
      "metadata": {
        "id": "HPMThG6Diowf"
      },
      "source": [
        "index = np.random.randint(1,len(X_train))\n",
        "plt.imshow(X_train[index])\n",
        "print(\"image label={}\".format(y_train[index]))"
      ],
      "execution_count": null,
      "outputs": []
    },
    {
      "cell_type": "code",
      "metadata": {
        "id": "FkM-cpg8lu5e"
      },
      "source": [
        "#shuffle the data\n",
        "from sklearn.utils import shuffle\n",
        "X_train,y_train=shuffle(X_train,y_train)"
      ],
      "execution_count": 10,
      "outputs": []
    },
    {
      "cell_type": "code",
      "metadata": {
        "id": "egjfJUsKzZk_"
      },
      "source": [
        "def preprocessing(img):\n",
        "  #convert to greyscale\n",
        "  img=cv2.cvtColor(img,cv2.COLOR_BGR2GRAY)\n",
        "  #Applying Histogram Equalization\n",
        "  img=cv2.equalizeHist(img)\n",
        "  #Equalization\n",
        "  img=img/255\n",
        "  return img"
      ],
      "execution_count": 11,
      "outputs": []
    },
    {
      "cell_type": "code",
      "metadata": {
        "id": "spkvuaTt0YAv"
      },
      "source": [
        "X_train_processed=np.array(list(map(preprocessing,X_train)))\n",
        "X_validation_processed=np.array(list(map(preprocessing,X_validation)))\n",
        "X_test_processed=np.array(list(map(preprocessing,X_test)))"
      ],
      "execution_count": 12,
      "outputs": []
    },
    {
      "cell_type": "code",
      "metadata": {
        "id": "TJwBqeg62H_p"
      },
      "source": [
        "X_train_processed=X_train_processed.reshape(34799,32,32,1)\n",
        "X_test_processed=X_test_processed.reshape(12630,32,32,1)\n",
        "X_validation_processed=X_validation_processed.reshape(4410,32,32,1)"
      ],
      "execution_count": 13,
      "outputs": []
    },
    {
      "cell_type": "code",
      "metadata": {
        "colab": {
          "base_uri": "https://localhost:8080/"
        },
        "id": "7S2fQHR32LnI",
        "outputId": "743d628f-25de-43ac-8040-7c1864958b39"
      },
      "source": [
        "print(X_train_processed.shape)\n",
        "print(X_test_processed.shape)\n",
        "print(X_validation_processed.shape)"
      ],
      "execution_count": 14,
      "outputs": [
        {
          "output_type": "stream",
          "name": "stdout",
          "text": [
            "(34799, 32, 32, 1)\n",
            "(12630, 32, 32, 1)\n",
            "(4410, 32, 32, 1)\n"
          ]
        }
      ]
    },
    {
      "cell_type": "code",
      "metadata": {
        "colab": {
          "base_uri": "https://localhost:8080/",
          "height": 532
        },
        "id": "ueAeplvT2fSx",
        "outputId": "5dc5dbdc-1980-4fa9-be22-6ceabbfcc3e1",
        "collapsed": true
      },
      "source": [
        "i = random.randint(1,len(X_train))\n",
        "plt.imshow(X_train_processed[i].squeeze(),cmap='gray')\n",
        "plt.figure()\n",
        "plt.imshow(X_train[i].squeeze())"
      ],
      "execution_count": 18,
      "outputs": [
        {
          "output_type": "execute_result",
          "data": {
            "text/plain": [
              "<matplotlib.image.AxesImage at 0x7f3c7eda4390>"
            ]
          },
          "metadata": {},
          "execution_count": 18
        },
        {
          "output_type": "display_data",
          "data": {
            "text/plain": [
              "<Figure size 432x288 with 1 Axes>"
            ],
            "image/png": "[encoded data removed]"
          },
          "metadata": {
            "needs_background": "light"
          }
        },
        {
          "output_type": "display_data",
          "data": {
            "text/plain": [
              "<Figure size 432x288 with 1 Axes>"
            ],
            "image/png": "[encoded data removed]"
          },
          "metadata": {
            "needs_background": "light"
          }
        }
      ]
    },
    {
      "cell_type": "code",
      "metadata": {
        "id": "vv-XLmYy3l-w"
      },
      "source": [],
      "execution_count": null,
      "outputs": []
    }
  ]
}